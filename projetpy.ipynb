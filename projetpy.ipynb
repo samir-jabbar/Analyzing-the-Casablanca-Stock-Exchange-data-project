{
  "cells": [
    {
      "cell_type": "code",
      "execution_count": null,
      "metadata": {},
      "outputs": [],
      "source": [
        "#write a function that take a aspx and return a csv file\n",
        "#here is the schema of the aspx file\n",
        "\"\"\"<table cellspacing=\"0\" rules=\"all\" border=\"1\" id=\"GridHistValeur\" style=\"border-collapse:collapse;\">\n",
        "\t<tr>\n",
        "\t\t<td>\n",
        "                            Séance\n",
        "                        </td><td>\n",
        "                            COURS_CLOTURE\n",
        "                        </td><td>\n",
        "                            COURS_AJUSTE\n",
        "                        </td><td>\n",
        "                          EVOLUTION\n",
        "                        </td><td>\n",
        "                            QUANTITE_ECHANGE\n",
        "                        </td><td>\n",
        "                            VOLUME\n",
        "                        </td>\n",
        "\t</tr><tr>\n",
        "\t\t<td>\n",
        "                            <span id=\"GridHistValeur_ctl02_Label1\">01/12/2022</span>\n",
        "                        </td><td>\n",
        "                            <span id=\"GridHistValeur_ctl02_Label1\">410,00</span>\n",
        "                        </td><td>\n",
        "                            <span id=\"GridHistValeur_ctl02_Label1\">410,00</span>\n",
        "                        </td><td>\n",
        "                            <span id=\"GridHistValeur_ctl02_Label1\">1,74</span>\n",
        "                        </td><td>\n",
        "                            <span id=\"GridHistValeur_ctl02_Label1\">16537</span>\n",
        "                        </td><td>\n",
        "                            <span id=\"GridHistValeur_ctl02_Label1\">6781578,3</span>\n",
        "                        </td>\n",
        "\t</tr><tr>\"\"\"\n"
      ]
    },
    {
      "cell_type": "code",
      "execution_count": 23,
      "metadata": {},
      "outputs": [],
      "source": [
        "import pandas as pd"
      ]
    },
    {
      "cell_type": "code",
      "execution_count": 24,
      "metadata": {},
      "outputs": [],
      "source": [
        "from bs4 import BeautifulSoup\n",
        "import csv\n",
        "\n",
        "def aspx_to_csv(aspx_string):\n",
        "    soup = BeautifulSoup(aspx_string, 'html.parser')\n",
        "\n",
        "    # Find the table with the specified id\n",
        "    table = soup.find('table', {'id': 'GridHistValeur'})\n",
        "    print(table)\n",
        "\n",
        "    # Create a list to store the data\n",
        "    data = []\n",
        "\n",
        "    # Add the headers to the data list\n",
        "    headers = [header.text for header in table.find_all('td')]\n",
        "    data.append(headers)\n",
        "\n",
        "    # Find all rows in the table\n",
        "    rows = table.find_all('tr')\n",
        "    print(rows)\n",
        "    \n",
        "    # Iterate through each row\n",
        "    for row in rows:\n",
        "        # Find all cells in the row\n",
        "        cells = row.find_all('td')\n",
        "        # Extract the text from each cell\n",
        "        values = [cell.text for cell in cells]\n",
        "        # Add the values to the data list\n",
        "        data.append(values)\n",
        "    #print(data)\n",
        "    \n",
        "    # Write the data to a pandas dataframe\n",
        "    df = pd.DataFrame(data)\n",
        "    print(df)\n",
        "    \"\"\"\n",
        "    # Write the data to a CSV file\n",
        "    with open('output.csv', 'w', newline='') as file:\n",
        "        writer = csv.writer(file)\n",
        "        writer.writerows(data)\"\"\""
      ]
    },
    {
      "cell_type": "code",
      "execution_count": 4,
      "metadata": {},
      "outputs": [],
      "source": [
        "with open('Telechargement-Histo-Valeur.aspx', 'r') as file:\n",
        "    aspx_contents = file.read()"
      ]
    },
    {
      "cell_type": "code",
      "execution_count": 28,
      "metadata": {},
      "outputs": [
        {
          "name": "stdout",
          "output_type": "stream",
          "text": [
            "['SÃ©ance', 'COURS_CLOTURE', 'COURS_AJUSTE', 'EVOLUTION', 'QUANTITE_ECHANGE', 'VOLUME']\n"
          ]
        }
      ],
      "source": [
        "from bs4 import BeautifulSoup\n",
        "import csv\n",
        "\n",
        "soup = BeautifulSoup(aspx_contents, 'html.parser')\n",
        "# Find the table with the specified id\n",
        "table = soup.find('table', {'id': 'GridHistValeur'})\n",
        "# Create a list to store the data\n",
        "\n",
        "headers=table.find('tr')\n",
        "#print(headers)\n",
        "colnames=[col.text.strip() for col in headers.find_all('td')]\n",
        "##for header in colnames:\n",
        " #   colnames.append(header.find('td').text())\n",
        "print(colnames)"
      ]
    },
    {
      "cell_type": "code",
      "execution_count": 40,
      "metadata": {},
      "outputs": [
        {
          "name": "stdout",
          "output_type": "stream",
          "text": [
            "<tr>\n",
            "<td>\n",
            "                            SÃ©ance\n",
            "                        </td><td>\n",
            "                            COURS_CLOTURE\n",
            "                        </td><td>\n",
            "                            COURS_AJUSTE\n",
            "                        </td><td>\n",
            "                          EVOLUTION\n",
            "                        </td><td>\n",
            "                            QUANTITE_ECHANGE\n",
            "                        </td><td>\n",
            "                            VOLUME\n",
            "                        </td>\n",
            "</tr>\n"
          ]
        }
      ],
      "source": [
        "from bs4 import BeautifulSoup\n",
        "import csv\n",
        "\n",
        "soup = BeautifulSoup(aspx_contents, 'html.parser')\n",
        "# Find the table with the specified id\n",
        "table = soup.find('table', {'id': 'GridHistValeur'})\n",
        "# Create a list to store the data\n",
        "data = \"\"\n",
        "# Add the headers to the data list\n",
        "dict={}\n",
        "datalist=[]\n",
        "headers=table.find('tr')\n",
        "#print(headers)\n",
        "colnames=[col.text.strip() for col in headers.find_all('td')]\n",
        "colnames[0]=\"SEANCE\"\n",
        "#headers = [header.text.strip() for header in table.find('tr')]\n",
        "print(headers)\n",
        "for header in colnames:\n",
        "    dict[header]=[]\n",
        "\n",
        "\n",
        "# Find all rows in the table\n",
        "rows = table.find_all('tr')\n",
        "\n",
        "# Iterate through each row\n",
        "for row in rows:\n",
        "    # Find all cells in the row\n",
        "    cells = row.find_all('span')\n",
        "    cell=[cell.text.strip() for cell in cells]\n",
        "    L=[]\n",
        "    for i in cell:\n",
        "        L.append(i.replace(\",\",\".\"))\n",
        "\n",
        "    s=\",\".join(L)\n",
        "    for i in range(len(L)):\n",
        "        dict[colnames[i]].append(L[i])\n",
        "    #datalist.append(s+\"\\n\")\n",
        "    #with open('datanew.csv', 'a') as file:\n",
        "    #    file.write(s)\n",
        "\n",
        "#print(dict)\n",
        "import pandas as pd\n",
        "pd.DataFrame(dict).to_csv('datanew.csv',index=False)"
      ]
    },
    {
      "cell_type": "code",
      "execution_count": 2,
      "metadata": {},
      "outputs": [],
      "source": [
        "import pandas as pd\n",
        "df=pd.read_csv('datanew.csv')"
      ]
    },
    {
      "cell_type": "code",
      "execution_count": 8,
      "metadata": {},
      "outputs": [
        {
          "data": {
            "text/html": [
              "<div>\n",
              "<style scoped>\n",
              "    .dataframe tbody tr th:only-of-type {\n",
              "        vertical-align: middle;\n",
              "    }\n",
              "\n",
              "    .dataframe tbody tr th {\n",
              "        vertical-align: top;\n",
              "    }\n",
              "\n",
              "    .dataframe thead th {\n",
              "        text-align: right;\n",
              "    }\n",
              "</style>\n",
              "<table border=\"1\" class=\"dataframe\">\n",
              "  <thead>\n",
              "    <tr style=\"text-align: right;\">\n",
              "      <th></th>\n",
              "      <th>SEANCE</th>\n",
              "      <th>COURS_CLOTURE</th>\n",
              "      <th>COURS_AJUSTE</th>\n",
              "      <th>EVOLUTION</th>\n",
              "      <th>QUANTITE_ECHANGE</th>\n",
              "      <th>VOLUME</th>\n",
              "    </tr>\n",
              "  </thead>\n",
              "  <tbody>\n",
              "    <tr>\n",
              "      <th>0</th>\n",
              "      <td>01/12/2022</td>\n",
              "      <td>410.00</td>\n",
              "      <td>410.00</td>\n",
              "      <td>1.74</td>\n",
              "      <td>16537</td>\n",
              "      <td>6781578.30</td>\n",
              "    </tr>\n",
              "    <tr>\n",
              "      <th>1</th>\n",
              "      <td>30/11/2022</td>\n",
              "      <td>403.00</td>\n",
              "      <td>403.00</td>\n",
              "      <td>-1.47</td>\n",
              "      <td>62881</td>\n",
              "      <td>25385455.15</td>\n",
              "    </tr>\n",
              "    <tr>\n",
              "      <th>2</th>\n",
              "      <td>29/11/2022</td>\n",
              "      <td>409.00</td>\n",
              "      <td>409.00</td>\n",
              "      <td>-0.24</td>\n",
              "      <td>19363</td>\n",
              "      <td>7927594.65</td>\n",
              "    </tr>\n",
              "    <tr>\n",
              "      <th>3</th>\n",
              "      <td>28/11/2022</td>\n",
              "      <td>410.00</td>\n",
              "      <td>410.00</td>\n",
              "      <td>0.01</td>\n",
              "      <td>26033</td>\n",
              "      <td>10676550.00</td>\n",
              "    </tr>\n",
              "    <tr>\n",
              "      <th>4</th>\n",
              "      <td>25/11/2022</td>\n",
              "      <td>409.95</td>\n",
              "      <td>409.95</td>\n",
              "      <td>1.72</td>\n",
              "      <td>6136</td>\n",
              "      <td>2509855.00</td>\n",
              "    </tr>\n",
              "    <tr>\n",
              "      <th>...</th>\n",
              "      <td>...</td>\n",
              "      <td>...</td>\n",
              "      <td>...</td>\n",
              "      <td>...</td>\n",
              "      <td>...</td>\n",
              "      <td>...</td>\n",
              "    </tr>\n",
              "    <tr>\n",
              "      <th>727</th>\n",
              "      <td>08/01/2020</td>\n",
              "      <td>497.00</td>\n",
              "      <td>497.00</td>\n",
              "      <td>0.40</td>\n",
              "      <td>112770</td>\n",
              "      <td>56048759.40</td>\n",
              "    </tr>\n",
              "    <tr>\n",
              "      <th>728</th>\n",
              "      <td>07/01/2020</td>\n",
              "      <td>495.00</td>\n",
              "      <td>495.00</td>\n",
              "      <td>0.92</td>\n",
              "      <td>17848</td>\n",
              "      <td>8783103.50</td>\n",
              "    </tr>\n",
              "    <tr>\n",
              "      <th>729</th>\n",
              "      <td>06/01/2020</td>\n",
              "      <td>490.50</td>\n",
              "      <td>490.50</td>\n",
              "      <td>-0.90</td>\n",
              "      <td>21396</td>\n",
              "      <td>10493239.90</td>\n",
              "    </tr>\n",
              "    <tr>\n",
              "      <th>730</th>\n",
              "      <td>03/01/2020</td>\n",
              "      <td>494.95</td>\n",
              "      <td>494.95</td>\n",
              "      <td>1.01</td>\n",
              "      <td>26656</td>\n",
              "      <td>13112391.10</td>\n",
              "    </tr>\n",
              "    <tr>\n",
              "      <th>731</th>\n",
              "      <td>02/01/2020</td>\n",
              "      <td>490.00</td>\n",
              "      <td>490.00</td>\n",
              "      <td>-1.80</td>\n",
              "      <td>4770</td>\n",
              "      <td>2337300.00</td>\n",
              "    </tr>\n",
              "  </tbody>\n",
              "</table>\n",
              "<p>732 rows × 6 columns</p>\n",
              "</div>"
            ],
            "text/plain": [
              "         SEANCE  COURS_CLOTURE  COURS_AJUSTE  EVOLUTION  QUANTITE_ECHANGE  \\\n",
              "0    01/12/2022         410.00        410.00       1.74             16537   \n",
              "1    30/11/2022         403.00        403.00      -1.47             62881   \n",
              "2    29/11/2022         409.00        409.00      -0.24             19363   \n",
              "3    28/11/2022         410.00        410.00       0.01             26033   \n",
              "4    25/11/2022         409.95        409.95       1.72              6136   \n",
              "..          ...            ...           ...        ...               ...   \n",
              "727  08/01/2020         497.00        497.00       0.40            112770   \n",
              "728  07/01/2020         495.00        495.00       0.92             17848   \n",
              "729  06/01/2020         490.50        490.50      -0.90             21396   \n",
              "730  03/01/2020         494.95        494.95       1.01             26656   \n",
              "731  02/01/2020         490.00        490.00      -1.80              4770   \n",
              "\n",
              "          VOLUME  \n",
              "0     6781578.30  \n",
              "1    25385455.15  \n",
              "2     7927594.65  \n",
              "3    10676550.00  \n",
              "4     2509855.00  \n",
              "..           ...  \n",
              "727  56048759.40  \n",
              "728   8783103.50  \n",
              "729  10493239.90  \n",
              "730  13112391.10  \n",
              "731   2337300.00  \n",
              "\n",
              "[732 rows x 6 columns]"
            ]
          },
          "execution_count": 8,
          "metadata": {},
          "output_type": "execute_result"
        }
      ],
      "source": [
        "df"
      ]
    },
    {
      "cell_type": "code",
      "execution_count": 7,
      "metadata": {},
      "outputs": [
        {
          "data": {
            "image/png": "[encoded data removed]",
            "text/plain": [
              "<Figure size 432x288 with 1 Axes>"
            ]
          },
          "metadata": {
            "needs_background": "light"
          },
          "output_type": "display_data"
        }
      ],
      "source": [
        "#plot the data\n",
        "import matplotlib.pyplot as plt\n",
        "plt.plot(df['SEANCE'],df['COURS_CLOTURE'])\n",
        "plt.plot(df['SEANCE'], df['VOLUME'])\n",
        "plt.show()"
      ]
    },
    {
      "cell_type": "code",
      "execution_count": 9,
      "metadata": {},
      "outputs": [
        {
          "data": {
            "image/png": "[encoded data removed]",
            "text/plain": [
              "<Figure size 432x288 with 1 Axes>"
            ]
          },
          "metadata": {
            "needs_background": "light"
          },
          "output_type": "display_data"
        },
        {
          "name": "stdout",
          "output_type": "stream",
          "text": [
            "511.0\n",
            "318.1\n",
            "3312760487.35\n"
          ]
        }
      ],
      "source": [
        "import pandas as pd\n",
        "\n",
        "class Stock:\n",
        "    def __init__(self, name, csv_file):\n",
        "        self.name = name\n",
        "        self.data = pd.read_csv(csv_file)\n",
        "\n",
        "    def plot(self):\n",
        "        plt.plot(self.data['SEANCE'], self.data['COURS_CLOTURE'])\n",
        "        plt.plot(self.data['SEANCE'], self.data['VOLUME'])\n",
        "        plt.show()\n",
        "    def max_value(self):\n",
        "        return self.data['COURS_CLOTURE'].max()\n",
        "    def min_value(self):\n",
        "        return self.data['COURS_CLOTURE'].min()\n",
        "    def max_volume(self):\n",
        "        return self.data['VOLUME'].max()\n",
        "    def max_quantite(self):\n",
        "        return self.data['QUANTITE_ECHANGE'].max()\n",
        "\n",
        "#objet stock\n",
        "attijary = Stock('attijary', 'datanew.csv')\n",
        "attijary.plot()\n",
        "print(attijary.max_value())\n",
        "print(attijary.min_value())\n",
        "print(attijary.max_volume())\n",
        "\n",
        "        \n"
      ]
    },
    {
      "attachments": {},
      "cell_type": "markdown",
      "metadata": {},
      "source": [
        "task6=Momentum"
      ]
    },
    {
      "cell_type": "code",
      "execution_count": null,
      "metadata": {},
      "outputs": [],
      "source": [
        "#convert seance column to datetime\n",
        "df['SEANCE']=pd.to_datetime(df['SEANCE'],format='%d/%m/%Y')\n"
      ]
    }
  ],
  "metadata": {
    "colab": {
      "provenance": []
    },
    "kernelspec": {
      "display_name": "Python 3",
      "language": "python",
      "name": "python3"
    },
    "language_info": {
      "codemirror_mode": {
        "name": "ipython",
        "version": 3
      },
      "file_extension": ".py",
      "mimetype": "text/x-python",
      "name": "python",
      "nbconvert_exporter": "python",
      "pygments_lexer": "ipython3",
      "version": "3.10.4"
    },
    "toc": {
      "base_numbering": 1,
      "nav_menu": {},
      "number_sections": true,
      "sideBar": true,
      "skip_h1_title": false,
      "title_cell": "Table of Contents",
      "title_sidebar": "Contents",
      "toc_cell": false,
      "toc_position": {},
      "toc_section_display": true,
      "toc_window_display": false
    },
    "varInspector": {
      "cols": {
        "lenName": 16,
        "lenType": 16,
        "lenVar": 40
      },
      "kernels_config": {
        "python": {
          "delete_cmd_postfix": "",
          "delete_cmd_prefix": "del ",
          "library": "var_list.py",
          "varRefreshCmd": "print(var_dic_list())"
        },
        "r": {
          "delete_cmd_postfix": ") ",
          "delete_cmd_prefix": "rm(",
          "library": "var_list.r",
          "varRefreshCmd": "cat(var_dic_list()) "
        }
      },
      "types_to_exclude": [
        "module",
        "function",
        "builtin_function_or_method",
        "instance",
        "_Feature"
      ],
      "window_display": false
    },
    "vscode": {
      "interpreter": {
        "hash": "afcdc7d8ab493c3455793d98696bf1865abe8e3c4494e2e193b977207db4fd78"
      }
    }
  },
  "nbformat": 4,
  "nbformat_minor": 0
}
